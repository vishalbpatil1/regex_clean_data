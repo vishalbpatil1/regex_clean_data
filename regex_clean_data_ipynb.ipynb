{
  "nbformat": 4,
  "nbformat_minor": 0,
  "metadata": {
    "colab": {
      "name": "regex_clean_data_ipynb",
      "provenance": [],
      "collapsed_sections": []
    },
    "kernelspec": {
      "name": "python3",
      "display_name": "Python 3"
    },
    "language_info": {
      "name": "python"
    }
  },
  "cells": [
    {
      "cell_type": "code",
      "metadata": {
        "id": "oLH4Q9h2QBlT"
      },
      "source": [
        "import re"
      ],
      "execution_count": 1,
      "outputs": []
    },
    {
      "cell_type": "markdown",
      "metadata": {
        "id": "U2OJQ_a5QUGx"
      },
      "source": [
        "```\n",
        "## Metacharacters are characters with a special meaning:\n",
        "[]\tA set of characters\t      \"[a-m]\"\n",
        "\n",
        "\\\tSignals a special sequence (can also be used to escape special characters)\t\"\\d\"\n",
        "\n",
        ".\tAny character (except newline character)\t\"he..o\"\n",
        "\n",
        "^\tStarts with\t\"^hello\"\n",
        "\n",
        "\n",
        "$\tEnds with\t\"world$\"\n",
        "\n",
        "*\tZero or more occurrences\t\"aix*\"\n",
        "\n",
        "+\tOne or more occurrences\t\"aix+\"\n",
        "\n",
        "{}\tExactly the specified number of occurrences\t\"al{2}\"\n",
        "\n",
        "\n",
        "|\tEither or\t\"falls|stays\"\n",
        "\n",
        "()\tCapture and group\n",
        "\n",
        "```"
      ]
    },
    {
      "cell_type": "markdown",
      "metadata": {
        "id": "mJhXMzdMRwh3"
      },
      "source": [
        "```bash\n",
        "[^arn]\tReturns a match for any character EXCEPT a, r, and n\n",
        "\n",
        "\n",
        "[0123]\tReturns a match where any of the specified digits (0, 1, 2, or 3) are present\n",
        "\n",
        "\n",
        "[0-9]\tReturns a match for any digit between 0 and 9\n",
        "\n",
        "[0-5][0-9]\tReturns a match for any two-digit numbers from 00 and 59\n",
        "\n",
        "[a-zA-Z]\tReturns a match for any character alphabetically between a and z, lower case OR upper case\n",
        "\n",
        "\n",
        "[+]\tIn sets, +, *, ., |, (), $,{} has no special meaning, so [+] means: return a match for any + character in the string\n",
        "\n",
        "```"
      ]
    },
    {
      "cell_type": "code",
      "metadata": {
        "colab": {
          "base_uri": "https://localhost:8080/"
        },
        "id": "4LUU9Y_JQNoU",
        "outputId": "5a7df7f9-6019-43ba-987c-c8a2b2ef3693"
      },
      "source": [
        "txt = \"The rain in Spain\"   #The findall() function returns a list containing all matches.\n",
        "x = re.findall(\"ai\", txt)\n",
        "print(x)"
      ],
      "execution_count": 2,
      "outputs": [
        {
          "output_type": "stream",
          "text": [
            "['ai', 'ai']\n"
          ],
          "name": "stdout"
        }
      ]
    },
    {
      "cell_type": "code",
      "metadata": {
        "colab": {
          "base_uri": "https://localhost:8080/"
        },
        "id": "cSF-9_GZSaV2",
        "outputId": "825b20de-afa5-4f06-e3c0-efa5878d6f47"
      },
      "source": [
        "txt = \"The rain in Spain\"  #Return an empty list if no match was found:\n",
        "x = re.findall(\"ais\", txt)\n",
        "print(x)"
      ],
      "execution_count": 3,
      "outputs": [
        {
          "output_type": "stream",
          "text": [
            "[]\n"
          ],
          "name": "stdout"
        }
      ]
    },
    {
      "cell_type": "code",
      "metadata": {
        "colab": {
          "base_uri": "https://localhost:8080/"
        },
        "id": "MVOvvovrSjy-",
        "outputId": "8f047721-f177-4b97-b94c-963ba70bd1e9"
      },
      "source": [
        "Words = 'the quick brownTfox runs super! fast: '  \n",
        " #split on the ‘T’, ‘!’ and the ‘:’ \n",
        "split = re.split('T|!|:',Words)\n",
        "print(split)"
      ],
      "execution_count": 4,
      "outputs": [
        {
          "output_type": "stream",
          "text": [
            "['the quick brown', 'fox runs super', ' fast', ' ']\n"
          ],
          "name": "stdout"
        }
      ]
    },
    {
      "cell_type": "code",
      "metadata": {
        "colab": {
          "base_uri": "https://localhost:8080/"
        },
        "id": "EBxl4ka6TYdi",
        "outputId": "3e659202-3213-435f-db11-f5f18e5f5c2f"
      },
      "source": [
        "p = re.compile('[a-e]')\n",
        "p.findall(\"Aye, said Mr. Gibenson Stark\")"
      ],
      "execution_count": 5,
      "outputs": [
        {
          "output_type": "execute_result",
          "data": {
            "text/plain": [
              "['e', 'a', 'd', 'b', 'e', 'a']"
            ]
          },
          "metadata": {
            "tags": []
          },
          "execution_count": 5
        }
      ]
    },
    {
      "cell_type": "code",
      "metadata": {
        "colab": {
          "base_uri": "https://localhost:8080/"
        },
        "id": "NiA0PSUGTYej",
        "outputId": "4421deb7-4312-4b76-9eac-1df5aa1da9be"
      },
      "source": [
        "\n",
        "# \\d is equivalent to [0-9].\n",
        "p = re.compile('\\d')\n",
        "print(p.findall(\"I went to him at 11 A.M. on 4th July 1886\"))"
      ],
      "execution_count": 6,
      "outputs": [
        {
          "output_type": "stream",
          "text": [
            "['1', '1', '4', '1', '8', '8', '6']\n"
          ],
          "name": "stdout"
        }
      ]
    },
    {
      "cell_type": "code",
      "metadata": {
        "colab": {
          "base_uri": "https://localhost:8080/"
        },
        "id": "-AXa_v39TYjb",
        "outputId": "7d40b684-3d81-4319-a809-60bf6e3b1dba"
      },
      "source": [
        "# \\d+ will match a group on [0-9], group of one or greater size\n",
        "p = re.compile('\\d+')\n",
        "print(p.findall(\"I went to him at 11 A.M. on 4th July 1886\"))\n",
        "p = re.compile('[0-9]+')\n",
        "print(p.findall(\"I went to him at 11 A.M. on 4th July 1886\"))"
      ],
      "execution_count": 11,
      "outputs": [
        {
          "output_type": "stream",
          "text": [
            "['11', '4', '1886']\n",
            "['11', '4', '1886']\n"
          ],
          "name": "stdout"
        }
      ]
    },
    {
      "cell_type": "code",
      "metadata": {
        "colab": {
          "base_uri": "https://localhost:8080/"
        },
        "id": "my5zN2yHTKtO",
        "outputId": "172e6e07-70a3-403b-ac44-88304050b6aa"
      },
      "source": [
        "# \\w is equivalent to [a-zA-Z0-9_].\n",
        "p = re.compile('\\w')\n",
        "print(p.findall(\"He said * in some_lang.\"))\n",
        "p = re.compile('[a-zA-Z0-9_]')\n",
        "print(p.findall(\"He said * in some_lang.\"))"
      ],
      "execution_count": 9,
      "outputs": [
        {
          "output_type": "stream",
          "text": [
            "['H', 'e', 's', 'a', 'i', 'd', 'i', 'n', 's', 'o', 'm', 'e', '_', 'l', 'a', 'n', 'g']\n",
            "['H', 'e', 's', 'a', 'i', 'd', 'i', 'n', 's', 'o', 'm', 'e', '_', 'l', 'a', 'n', 'g']\n"
          ],
          "name": "stdout"
        }
      ]
    },
    {
      "cell_type": "code",
      "metadata": {
        "colab": {
          "base_uri": "https://localhost:8080/"
        },
        "id": "kXXEBI2AVjLY",
        "outputId": "f1509f39-a25b-4047-b77d-8f2bb952b10c"
      },
      "source": [
        "# \\w+ matches to group of alphanumeric character.\n",
        "p = re.compile('\\w+')\n",
        "print(p.findall(\"I went to him at 11 A.M., he said *** in some_language.\"))\n",
        "\n",
        "p = re.compile('[a-zA-Z0-9_]+')\n",
        "print(p.findall(\"I went to him at 11 A.M., he said *** in some_language.\"))"
      ],
      "execution_count": 13,
      "outputs": [
        {
          "output_type": "stream",
          "text": [
            "['I', 'went', 'to', 'him', 'at', '11', 'A', 'M', 'he', 'said', 'in', 'some_language']\n",
            "['I', 'went', 'to', 'him', 'at', '11', 'A', 'M', 'he', 'said', 'in', 'some_language']\n"
          ],
          "name": "stdout"
        }
      ]
    },
    {
      "cell_type": "code",
      "metadata": {
        "colab": {
          "base_uri": "https://localhost:8080/"
        },
        "id": "wkVj7TFaWdTN",
        "outputId": "27cb135c-fe11-4637-a7ef-5823becefa40"
      },
      "source": [
        "# \\W matches to non alphanumeric characters.\n",
        "p = re.compile('\\W')\n",
        "print(p.findall(\"he said *** in some_language.\"))"
      ],
      "execution_count": 14,
      "outputs": [
        {
          "output_type": "stream",
          "text": [
            "[' ', ' ', '*', '*', '*', ' ', ' ', '.']\n"
          ],
          "name": "stdout"
        }
      ]
    },
    {
      "cell_type": "code",
      "metadata": {
        "colab": {
          "base_uri": "https://localhost:8080/"
        },
        "id": "qb76AfpUWvIs",
        "outputId": "43fea8df-92b9-44a3-b9b1-a16aacf8e882"
      },
      "source": [
        "# '*' replaces the no. of occurrence of a character.\n",
        "p = re.compile('ab*')\n",
        "print(p.findall(\"ababbaabbb\"))"
      ],
      "execution_count": 16,
      "outputs": [
        {
          "output_type": "stream",
          "text": [
            "['ab', 'abb', 'a', 'abbb']\n"
          ],
          "name": "stdout"
        }
      ]
    },
    {
      "cell_type": "code",
      "metadata": {
        "colab": {
          "base_uri": "https://localhost:8080/"
        },
        "id": "AyCJljiCW6v-",
        "outputId": "5bf6ec17-33b1-406c-8798-bcca7835909a"
      },
      "source": [
        "from re import split\n",
        "print(split('\\W+', 'On 12th Jan 2016, at 11:02 AM'))"
      ],
      "execution_count": 17,
      "outputs": [
        {
          "output_type": "stream",
          "text": [
            "['On', '12th', 'Jan', '2016', 'at', '11', '02', 'AM']\n"
          ],
          "name": "stdout"
        }
      ]
    },
    {
      "cell_type": "code",
      "metadata": {
        "colab": {
          "base_uri": "https://localhost:8080/"
        },
        "id": "TmyFtI1cXlv-",
        "outputId": "05048670-6df8-42e4-ce9d-e93e35d80a50"
      },
      "source": [
        "# Upon matching, 'ub' is replaced by '~*' in \"Subject\", and in \"Uber\", 'Ub' is replaced.\n",
        "print(re.sub('ub', '~*' , 'Subject has Uber booked already', flags = re.IGNORECASE))"
      ],
      "execution_count": 18,
      "outputs": [
        {
          "output_type": "stream",
          "text": [
            "S~*ject has ~*er booked already\n"
          ],
          "name": "stdout"
        }
      ]
    },
    {
      "cell_type": "code",
      "metadata": {
        "colab": {
          "base_uri": "https://localhost:8080/",
          "height": 35
        },
        "id": "rXG08ZvlX8Xo",
        "outputId": "407b6561-c8ca-4b75-dbb1-17dfe004c7ba"
      },
      "source": [
        "# Upon matching, '$' is replaced by '' .\n",
        "pattern=r'[$_]'\n",
        "result=re.sub(pattern, '' ,'$4521$_')\n",
        "result"
      ],
      "execution_count": 37,
      "outputs": [
        {
          "output_type": "execute_result",
          "data": {
            "application/vnd.google.colaboratory.intrinsic+json": {
              "type": "string"
            },
            "text/plain": [
              "'4521'"
            ]
          },
          "metadata": {
            "tags": []
          },
          "execution_count": 37
        }
      ]
    },
    {
      "cell_type": "code",
      "metadata": {
        "colab": {
          "base_uri": "https://localhost:8080/",
          "height": 35
        },
        "id": "oN7prygCbxKp",
        "outputId": "9fce5b77-b0b5-4bcd-c653-0d547569095d"
      },
      "source": [
        "# Upon matching, '$' is replaced by '' .\n",
        "pattern=re.compile('[0-9]+')\n",
        "result=pattern.findall('$4521$_')\n",
        "result[0]"
      ],
      "execution_count": 43,
      "outputs": [
        {
          "output_type": "execute_result",
          "data": {
            "application/vnd.google.colaboratory.intrinsic+json": {
              "type": "string"
            },
            "text/plain": [
              "'4521'"
            ]
          },
          "metadata": {
            "tags": []
          },
          "execution_count": 43
        }
      ]
    },
    {
      "cell_type": "code",
      "metadata": {
        "colab": {
          "base_uri": "https://localhost:8080/"
        },
        "id": "a667OTO3YKtO",
        "outputId": "3bbaf861-2ffb-4625-f432-4b1b321f52cb"
      },
      "source": [
        "phone = re.compile('\\d{3}\\-\\d{3}\\-\\d{4}')\n",
        "# Check if the pattern matches\n",
        "result = phone.findall(\"my phone number is 123-456-7890 pleas call me.\")\n",
        "result"
      ],
      "execution_count": 25,
      "outputs": [
        {
          "output_type": "execute_result",
          "data": {
            "text/plain": [
              "['123-456-7890']"
            ]
          },
          "metadata": {
            "tags": []
          },
          "execution_count": 25
        }
      ]
    },
    {
      "cell_type": "code",
      "metadata": {
        "colab": {
          "base_uri": "https://localhost:8080/"
        },
        "id": "RUsw03S0Y4JH",
        "outputId": "f943478f-0292-4bf3-ef7e-44e3f8f122cb"
      },
      "source": [
        "# Find the numeric values: matches\n",
        "matches = re.findall('\\d+', 'Smoothie ingredients: 3 bananas and 2 strawberries')\n",
        "\n",
        "# Print the matches\n",
        "print(matches)"
      ],
      "execution_count": 26,
      "outputs": [
        {
          "output_type": "stream",
          "text": [
            "['3', '2']\n"
          ],
          "name": "stdout"
        }
      ]
    },
    {
      "cell_type": "code",
      "metadata": {
        "colab": {
          "base_uri": "https://localhost:8080/"
        },
        "id": "rwOLtpriZQPU",
        "outputId": "77c67201-8742-42c2-bc85-2c61ed78c1ae"
      },
      "source": [
        "print(re.escape(\"This is Awseome even 1 AM\"))"
      ],
      "execution_count": 27,
      "outputs": [
        {
          "output_type": "stream",
          "text": [
            "This\\ is\\ Awseome\\ even\\ 1\\ AM\n"
          ],
          "name": "stdout"
        }
      ]
    },
    {
      "cell_type": "code",
      "metadata": {
        "colab": {
          "base_uri": "https://localhost:8080/"
        },
        "id": "rDJSryzmZbXj",
        "outputId": "3573de99-bbb0-425b-9ae1-b277797c6a87"
      },
      "source": [
        "org_string = \"This is a sample string\"\n",
        "pattern = r's'\n",
        "# Replace all occurrences of character s with an empty string\n",
        "mod_string = re.sub(pattern, '', org_string )\n",
        "print(mod_string)"
      ],
      "execution_count": 30,
      "outputs": [
        {
          "output_type": "stream",
          "text": [
            "Thi i a ample tring\n"
          ],
          "name": "stdout"
        }
      ]
    },
    {
      "cell_type": "code",
      "metadata": {
        "colab": {
          "base_uri": "https://localhost:8080/"
        },
        "id": "YwJMi5PyaB47",
        "outputId": "4771e74b-933f-40d5-999f-b4305d849f14"
      },
      "source": [
        "org_string = \"This is a sample string\"\n",
        "pattern = r'[sai]'\n",
        "# Remove characters 's', 'a' and 'i' from a string\n",
        "mod_string = re.sub(pattern, '', org_string)\n",
        "print(mod_string)"
      ],
      "execution_count": 31,
      "outputs": [
        {
          "output_type": "stream",
          "text": [
            "Th   mple trng\n"
          ],
          "name": "stdout"
        }
      ]
    },
    {
      "cell_type": "code",
      "metadata": {
        "colab": {
          "base_uri": "https://localhost:8080/",
          "height": 35
        },
        "id": "Lhb_11W5aMe2",
        "outputId": "d910e86f-264c-431b-ac87-6bffbd931fc8"
      },
      "source": [
        "# Upon matching, '$' is replaced by '' .\n",
        "pattern=r'[a-zA-Z]'\n",
        "result=re.sub(pattern, '' ,'this is tupple (45,41) pleas write.')\n",
        "result"
      ],
      "execution_count": 38,
      "outputs": [
        {
          "output_type": "execute_result",
          "data": {
            "application/vnd.google.colaboratory.intrinsic+json": {
              "type": "string"
            },
            "text/plain": [
              "'   (45,41)  .'"
            ]
          },
          "metadata": {
            "tags": []
          },
          "execution_count": 38
        }
      ]
    },
    {
      "cell_type": "code",
      "metadata": {
        "colab": {
          "base_uri": "https://localhost:8080/"
        },
        "id": "y6sbddk3dbrb",
        "outputId": "2b149197-1f44-4a45-97cb-ba924b3aea32"
      },
      "source": [
        "import pandas as pd\n",
        "\n",
        "df = pd.DataFrame(['$40,000*','$40000 conditions attached','$7841','$89562','$21315$'], columns=['Price'])\n",
        "print(df)"
      ],
      "execution_count": 49,
      "outputs": [
        {
          "output_type": "stream",
          "text": [
            "                        Price\n",
            "0                    $40,000*\n",
            "1  $40000 conditions attached\n",
            "2                       $7841\n",
            "3                      $89562\n",
            "4                     $21315$\n"
          ],
          "name": "stdout"
        }
      ]
    },
    {
      "cell_type": "code",
      "metadata": {
        "colab": {
          "base_uri": "https://localhost:8080/"
        },
        "id": "g85cXMvTefMZ",
        "outputId": "fec2bd72-c40c-40fb-b18e-0737671e29ae"
      },
      "source": [
        " df['Price'].str.replace(r'\\D+', '').astype('int')"
      ],
      "execution_count": 51,
      "outputs": [
        {
          "output_type": "execute_result",
          "data": {
            "text/plain": [
              "0    40000\n",
              "1    40000\n",
              "2     7841\n",
              "3    89562\n",
              "4    21315\n",
              "Name: Price, dtype: int64"
            ]
          },
          "metadata": {
            "tags": []
          },
          "execution_count": 51
        }
      ]
    },
    {
      "cell_type": "code",
      "metadata": {
        "colab": {
          "base_uri": "https://localhost:8080/"
        },
        "id": "Wbq4YflbeuRQ",
        "outputId": "b2266027-6994-48e5-a038-4ff96497c0c1"
      },
      "source": [
        "def clean_text(text):\n",
        "    text = re.sub(r\"\\D+\",'',text)\n",
        "    return text\n",
        "df['Price'].apply(clean_text).astype('int64')"
      ],
      "execution_count": 56,
      "outputs": [
        {
          "output_type": "execute_result",
          "data": {
            "text/plain": [
              "0    40000\n",
              "1    40000\n",
              "2     7841\n",
              "3    89562\n",
              "4    21315\n",
              "Name: Price, dtype: int64"
            ]
          },
          "metadata": {
            "tags": []
          },
          "execution_count": 56
        }
      ]
    },
    {
      "cell_type": "code",
      "metadata": {
        "colab": {
          "base_uri": "https://localhost:8080/",
          "height": 260
        },
        "id": "JN8ji7IhfN2Z",
        "outputId": "9a36dbb5-d8dc-45df-c63d-0b310ef1a313"
      },
      "source": [
        "list_=['\u001a\u001aNew England Hemophilia Association (NEHA)',\n",
        " '\u001aLos Gatos Education Foundation (LGEF)',\n",
        "'#Fly',\n",
        "'#GivingTuesday',\n",
        "'See Ya Later',\n",
        " 'Foundation Inc (SYL)',\n",
        "'1 Million 4 Anna Foundation']\n",
        "import pandas as pd\n",
        "df=pd.DataFrame()\n",
        "df['str']=list_\n",
        "df"
      ],
      "execution_count": 58,
      "outputs": [
        {
          "output_type": "execute_result",
          "data": {
            "text/html": [
              "<div>\n",
              "<style scoped>\n",
              "    .dataframe tbody tr th:only-of-type {\n",
              "        vertical-align: middle;\n",
              "    }\n",
              "\n",
              "    .dataframe tbody tr th {\n",
              "        vertical-align: top;\n",
              "    }\n",
              "\n",
              "    .dataframe thead th {\n",
              "        text-align: right;\n",
              "    }\n",
              "</style>\n",
              "<table border=\"1\" class=\"dataframe\">\n",
              "  <thead>\n",
              "    <tr style=\"text-align: right;\">\n",
              "      <th></th>\n",
              "      <th>str</th>\n",
              "    </tr>\n",
              "  </thead>\n",
              "  <tbody>\n",
              "    <tr>\n",
              "      <th>0</th>\n",
              "      <td>\u001a\u001aNew England Hemophilia Association (NEHA)</td>\n",
              "    </tr>\n",
              "    <tr>\n",
              "      <th>1</th>\n",
              "      <td>\u001aLos Gatos Education Foundation (LGEF)</td>\n",
              "    </tr>\n",
              "    <tr>\n",
              "      <th>2</th>\n",
              "      <td>#Fly</td>\n",
              "    </tr>\n",
              "    <tr>\n",
              "      <th>3</th>\n",
              "      <td>#GivingTuesday</td>\n",
              "    </tr>\n",
              "    <tr>\n",
              "      <th>4</th>\n",
              "      <td>See Ya Later</td>\n",
              "    </tr>\n",
              "    <tr>\n",
              "      <th>5</th>\n",
              "      <td>Foundation Inc (SYL)</td>\n",
              "    </tr>\n",
              "    <tr>\n",
              "      <th>6</th>\n",
              "      <td>1 Million 4 Anna Foundation</td>\n",
              "    </tr>\n",
              "  </tbody>\n",
              "</table>\n",
              "</div>"
            ],
            "text/plain": [
              "                                           str\n",
              "0  \u001a\u001aNew England Hemophilia Association (NEHA)\n",
              "1       \u001aLos Gatos Education Foundation (LGEF)\n",
              "2                                         #Fly\n",
              "3                               #GivingTuesday\n",
              "4                                 See Ya Later\n",
              "5                         Foundation Inc (SYL)\n",
              "6                  1 Million 4 Anna Foundation"
            ]
          },
          "metadata": {
            "tags": []
          },
          "execution_count": 58
        }
      ]
    },
    {
      "cell_type": "code",
      "metadata": {
        "id": "kMJiWFP9gPX3"
      },
      "source": [
        "def clean_text(text):\n",
        "    text = text.lower()\n",
        "    text = re.sub(r\"i'm\",\"i am\",text)\n",
        "    text = re.sub(r\"she's\",\"she is\",text)\n",
        "    text = re.sub(r\"can't\",\"can not\",text)\n",
        "    text = re.sub(r\"\\x1a\",\"\",text)\n",
        "    text = re.sub(\"[()]\",\"\",text)\n",
        "    text = re.sub(r\"\",\"\",text)\n",
        "    text = re.sub(r\"�\",\"\",text)\n",
        "    result = re.sub(r\"[(a-z)]\", \"\",text)\n",
        "    text = re.sub(r\"[-()\\\"#/@;:<>{}=~|.?,]\", \"\", text)\n",
        "    return text"
      ],
      "execution_count": 68,
      "outputs": []
    },
    {
      "cell_type": "code",
      "metadata": {
        "colab": {
          "base_uri": "https://localhost:8080/",
          "height": 260
        },
        "id": "Iy1y53JFggsU",
        "outputId": "5b199450-bccb-4bc5-c01c-6f76e8fdb500"
      },
      "source": [
        "df['str']=df['str'].apply(clean_text)\n",
        "df"
      ],
      "execution_count": 69,
      "outputs": [
        {
          "output_type": "execute_result",
          "data": {
            "text/html": [
              "<div>\n",
              "<style scoped>\n",
              "    .dataframe tbody tr th:only-of-type {\n",
              "        vertical-align: middle;\n",
              "    }\n",
              "\n",
              "    .dataframe tbody tr th {\n",
              "        vertical-align: top;\n",
              "    }\n",
              "\n",
              "    .dataframe thead th {\n",
              "        text-align: right;\n",
              "    }\n",
              "</style>\n",
              "<table border=\"1\" class=\"dataframe\">\n",
              "  <thead>\n",
              "    <tr style=\"text-align: right;\">\n",
              "      <th></th>\n",
              "      <th>str</th>\n",
              "    </tr>\n",
              "  </thead>\n",
              "  <tbody>\n",
              "    <tr>\n",
              "      <th>0</th>\n",
              "      <td>new england hemophilia association neha</td>\n",
              "    </tr>\n",
              "    <tr>\n",
              "      <th>1</th>\n",
              "      <td>los gatos education foundation lgef</td>\n",
              "    </tr>\n",
              "    <tr>\n",
              "      <th>2</th>\n",
              "      <td>fly</td>\n",
              "    </tr>\n",
              "    <tr>\n",
              "      <th>3</th>\n",
              "      <td>givingtuesday</td>\n",
              "    </tr>\n",
              "    <tr>\n",
              "      <th>4</th>\n",
              "      <td>see ya later</td>\n",
              "    </tr>\n",
              "    <tr>\n",
              "      <th>5</th>\n",
              "      <td>foundation inc syl</td>\n",
              "    </tr>\n",
              "    <tr>\n",
              "      <th>6</th>\n",
              "      <td>1 million 4 anna foundation</td>\n",
              "    </tr>\n",
              "  </tbody>\n",
              "</table>\n",
              "</div>"
            ],
            "text/plain": [
              "                                       str\n",
              "0  new england hemophilia association neha\n",
              "1      los gatos education foundation lgef\n",
              "2                                      fly\n",
              "3                            givingtuesday\n",
              "4                             see ya later\n",
              "5                       foundation inc syl\n",
              "6              1 million 4 anna foundation"
            ]
          },
          "metadata": {
            "tags": []
          },
          "execution_count": 69
        }
      ]
    },
    {
      "cell_type": "code",
      "metadata": {
        "colab": {
          "base_uri": "https://localhost:8080/"
        },
        "id": "nVhmY85BkVTZ",
        "outputId": "57beb1cd-2e24-4b25-b15d-0179184ca099"
      },
      "source": [
        "#\n",
        "import re\n",
        "txt = \"The rain in Spain\"\n",
        "x = re.split(\"\\s\", txt)\n",
        "print(x)"
      ],
      "execution_count": 63,
      "outputs": [
        {
          "output_type": "stream",
          "text": [
            "['The', 'rain', 'in', 'Spain']\n"
          ],
          "name": "stdout"
        }
      ]
    },
    {
      "cell_type": "code",
      "metadata": {
        "colab": {
          "base_uri": "https://localhost:8080/"
        },
        "id": "Hw3fA0ytkVfU",
        "outputId": "72bd1d71-3fe1-4e83-b5ff-9f34e17635f4"
      },
      "source": [
        "\n",
        "txt = \"The rain in Spain\"\n",
        "x = re.sub(\"\\s\", \"_\", txt)\n",
        "print(x)"
      ],
      "execution_count": 65,
      "outputs": [
        {
          "output_type": "stream",
          "text": [
            "The_rain_in_Spain\n"
          ],
          "name": "stdout"
        }
      ]
    },
    {
      "cell_type": "code",
      "metadata": {
        "colab": {
          "base_uri": "https://localhost:8080/"
        },
        "id": "DEINpuE7kVlT",
        "outputId": "73482d0e-a24f-475d-86b2-bc55624c3904"
      },
      "source": [
        "text = \"The film Titanic was released in 1998\"\n",
        "result = re.findall(r\".*\", text)\n",
        "result"
      ],
      "execution_count": 8,
      "outputs": [
        {
          "output_type": "execute_result",
          "data": {
            "text/plain": [
              "['The film Titanic was released in 1998', '']"
            ]
          },
          "metadata": {
            "tags": []
          },
          "execution_count": 8
        }
      ]
    },
    {
      "cell_type": "code",
      "metadata": {
        "colab": {
          "base_uri": "https://localhost:8080/"
        },
        "id": "Wci2cj780VUR",
        "outputId": "ebd5f3a5-ef69-45fd-815f-45f375d76d22"
      },
      "source": [
        "result = re.findall(r\".+\", text)\n",
        "result"
      ],
      "execution_count": 10,
      "outputs": [
        {
          "output_type": "execute_result",
          "data": {
            "text/plain": [
              "['The film Titanic was released in 1998']"
            ]
          },
          "metadata": {
            "tags": []
          },
          "execution_count": 10
        }
      ]
    },
    {
      "cell_type": "code",
      "metadata": {
        "colab": {
          "base_uri": "https://localhost:8080/"
        },
        "id": "nfWiZROc0qeg",
        "outputId": "7682e34c-e223-458d-d19d-c21a49d9f67b"
      },
      "source": [
        "text = \"1998 was the year when the film titanic was released\"\n",
        "if re.search(r\"^1998\", text):\n",
        "    print(\"Match found\")\n",
        "else:\n",
        "    print(\"Match not found\")"
      ],
      "execution_count": 11,
      "outputs": [
        {
          "output_type": "stream",
          "text": [
            "Match found\n"
          ],
          "name": "stdout"
        }
      ]
    },
    {
      "cell_type": "code",
      "metadata": {
        "colab": {
          "base_uri": "https://localhost:8080/"
        },
        "id": "qkRs1vM31D-R",
        "outputId": "dbd3ae58-5470-48dd-d0e8-5894af43c446"
      },
      "source": [
        "text = \"1998 was the year when the film titanic was released\"\n",
        "if re.search(r\"1998$\", text):\n",
        "    print(\"Match found\")\n",
        "else:\n",
        "    print(\"Match not found\")"
      ],
      "execution_count": 12,
      "outputs": [
        {
          "output_type": "stream",
          "text": [
            "Match not found\n"
          ],
          "name": "stdout"
        }
      ]
    },
    {
      "cell_type": "code",
      "metadata": {
        "colab": {
          "base_uri": "https://localhost:8080/"
        },
        "id": "zZ21IRci1Le3",
        "outputId": "2786b134-acd5-4ede-b5ca-5b99292970be"
      },
      "source": [
        "text = \"The film Pulp Fiction was released in year 1994\"\n",
        "result = re.sub(r\"[a-z]\", \"X\", text)\n",
        "print(result)"
      ],
      "execution_count": 13,
      "outputs": [
        {
          "output_type": "stream",
          "text": [
            "TXX XXXX PXXX FXXXXXX XXX XXXXXXXX XX XXXX 1994\n"
          ],
          "name": "stdout"
        }
      ]
    },
    {
      "cell_type": "code",
      "metadata": {
        "colab": {
          "base_uri": "https://localhost:8080/"
        },
        "id": "V7rORq1W1WhK",
        "outputId": "2a4482db-79a2-4a38-e446-0fd74e93be4f"
      },
      "source": [
        "#You can group multiple patterns to match or substitute in a string using the square bracket. \n",
        "text = \"The film, '@Pulp Fiction' was ? released _ in % $ year 1994.\"\n",
        "result = re.sub(r\"[,@\\'?\\.$%_]\", \"\", text, flags=re.I)\n",
        "print(result)"
      ],
      "execution_count": 14,
      "outputs": [
        {
          "output_type": "stream",
          "text": [
            "The film Pulp Fiction was  released  in   year 1994\n"
          ],
          "name": "stdout"
        }
      ]
    },
    {
      "cell_type": "code",
      "metadata": {
        "colab": {
          "base_uri": "https://localhost:8080/"
        },
        "id": "-EMMPB6h1pKW",
        "outputId": "ae6e53ec-8607-41f4-844e-754be7f385cb"
      },
      "source": [
        "# Removing Multiple Spaces\n",
        "text = \"The film      Pulp Fiction      was released in   year 1994.\"\n",
        "result = re.sub(r\"\\s+\",\" \", text, flags = re.I)\n",
        "print(result)"
      ],
      "execution_count": 15,
      "outputs": [
        {
          "output_type": "stream",
          "text": [
            "The film Pulp Fiction was released in year 1994.\n"
          ],
          "name": "stdout"
        }
      ]
    },
    {
      "cell_type": "code",
      "metadata": {
        "id": "DkUQQxV-13dT"
      },
      "source": [
        "# Removing Spaces from Start and End\n",
        "text = \"         The film Pulp Fiction was released in year 1994\"\n",
        "result = re.sub(r\"^\\s+\", \"\", text)\n",
        "print(result)"
      ],
      "execution_count": null,
      "outputs": []
    },
    {
      "cell_type": "code",
      "metadata": {
        "id": "hg3tqn1t2Eib"
      },
      "source": [
        "text = \"The film Pulp Fiction was released in year 1994      \"\n",
        "result = re.sub(r\"\\s+$\", \"\", text)\n",
        "print(result)"
      ],
      "execution_count": null,
      "outputs": []
    },
    {
      "cell_type": "code",
      "metadata": {
        "id": "nWt7GrQW2sWS"
      },
      "source": [
        ""
      ],
      "execution_count": null,
      "outputs": []
    },
    {
      "cell_type": "code",
      "metadata": {
        "colab": {
          "base_uri": "https://localhost:8080/"
        },
        "id": "h3UFrhfx2s3j",
        "outputId": "0de47645-615a-4b86-f30f-3418529bc799"
      },
      "source": [
        "text = \"The film Pulp Fiction     s was b released in year 1994\"\n",
        "result = re.sub(r\"\\s+[a-zA-Z]\\s+\", \" \", text)\n",
        "print(result)"
      ],
      "execution_count": 16,
      "outputs": [
        {
          "output_type": "stream",
          "text": [
            "The film Pulp Fiction was released in year 1994\n"
          ],
          "name": "stdout"
        }
      ]
    },
    {
      "cell_type": "code",
      "metadata": {
        "colab": {
          "base_uri": "https://localhost:8080/"
        },
        "id": "6ZR_sOFO2ui3",
        "outputId": "13d0bd1e-c898-4d63-c4bf-33f80ab4e2c8"
      },
      "source": [
        "text = \"The film, Pulp Fiction, was released in year 1994\"\n",
        "result = re.split(r\"\\,\", text)\n",
        "print(result)"
      ],
      "execution_count": 17,
      "outputs": [
        {
          "output_type": "stream",
          "text": [
            "['The film', ' Pulp Fiction', ' was released in year 1994']\n"
          ],
          "name": "stdout"
        }
      ]
    },
    {
      "cell_type": "code",
      "metadata": {
        "colab": {
          "base_uri": "https://localhost:8080/"
        },
        "id": "gXeCAWnP3F3b",
        "outputId": "f7f3f5f2-612a-4b49-97f7-00e70deed247"
      },
      "source": [
        "import re\n",
        "text = \"This is comany name (vishal)\"\n",
        "result = re.sub(r\"\\(.*?\\)\", \"\", text)\n",
        "print(result)"
      ],
      "execution_count": 2,
      "outputs": [
        {
          "output_type": "stream",
          "text": [
            "This is comany name \n"
          ],
          "name": "stdout"
        }
      ]
    },
    {
      "cell_type": "code",
      "metadata": {
        "colab": {
          "base_uri": "https://localhost:8080/"
        },
        "id": "iwmIsyt3AzU5",
        "outputId": "f6181093-2e0d-4032-c70b-c9cd9dd5c021"
      },
      "source": [
        "text = \"This is comany name (vishal)\"\n",
        "result = re.findall(r\"\\(.*?\\)\", text)\n",
        "print(result)"
      ],
      "execution_count": 4,
      "outputs": [
        {
          "output_type": "stream",
          "text": [
            "['(vishal)']\n"
          ],
          "name": "stdout"
        }
      ]
    },
    {
      "cell_type": "code",
      "metadata": {
        "colab": {
          "base_uri": "https://localhost:8080/"
        },
        "id": "lUxQRfXHenv4",
        "outputId": "6cdd5b11-1ef9-4d49-a20d-2fb31dc5ad9b"
      },
      "source": [
        "text = \"India((from natural collection))\"\n",
        "result = re.sub(r\"\\(\\(.*?\\)\\)\", \"\", text)\n",
        "print(result)"
      ],
      "execution_count": 7,
      "outputs": [
        {
          "output_type": "stream",
          "text": [
            "India\n"
          ],
          "name": "stdout"
        }
      ]
    },
    {
      "cell_type": "code",
      "metadata": {
        "colab": {
          "base_uri": "https://localhost:8080/"
        },
        "id": "B96rsQTwfAlI",
        "outputId": "3f6715c3-6f56-4029-bc3a-3ff84f5c759c"
      },
      "source": [
        "text = \"India[(from natural collection)]\"\n",
        "result = re.sub(r\"\\[\\(.*?\\)\\]\", \"\", text)\n",
        "print(result)"
      ],
      "execution_count": 8,
      "outputs": [
        {
          "output_type": "stream",
          "text": [
            "India\n"
          ],
          "name": "stdout"
        }
      ]
    },
    {
      "cell_type": "code",
      "metadata": {
        "colab": {
          "base_uri": "https://localhost:8080/"
        },
        "id": "fSjIGeWK4hRw",
        "outputId": "5274a886-3c9d-4e65-a9d9-cfa9c847e3a3"
      },
      "source": [
        "text = \"I want to buy a mobile between 200 and 400 euros\"\n",
        "result = re.findall(r\"\\d+\", text)\n",
        "print(result)"
      ],
      "execution_count": 29,
      "outputs": [
        {
          "output_type": "stream",
          "text": [
            "['200', '400']\n"
          ],
          "name": "stdout"
        }
      ]
    },
    {
      "cell_type": "code",
      "metadata": {
        "colab": {
          "base_uri": "https://localhost:8080/"
        },
        "id": "bTRS1DGz3wSf",
        "outputId": "c95887ba-1dd9-4f0b-cc5d-cd5f6b608915"
      },
      "source": [
        "s = 'foo [[bar]]); baz [[quz]]); not [[foobar]]'\n",
        "matches = re.findall(r'\\[\\[(.*?)]]', s, re.S)\n",
        "matches"
      ],
      "execution_count": 62,
      "outputs": [
        {
          "output_type": "execute_result",
          "data": {
            "text/plain": [
              "['bar', 'quz', 'foobar']"
            ]
          },
          "metadata": {
            "tags": []
          },
          "execution_count": 62
        }
      ]
    },
    {
      "cell_type": "code",
      "metadata": {
        "colab": {
          "base_uri": "https://localhost:8080/"
        },
        "id": "VGJqkqgd5lUS",
        "outputId": "9d08d3de-b122-4b57-b814-86242d350380"
      },
      "source": [
        "s = 'foo [[bar]]); baz [[quz]]); not [[foobar]]'\n",
        "matches = re.findall(r'\\[\\[.*?\\]\\]',s)\n",
        "matches"
      ],
      "execution_count": 96,
      "outputs": [
        {
          "output_type": "execute_result",
          "data": {
            "text/plain": [
              "['[[bar]]', '[[quz]]', '[[foobar]]']"
            ]
          },
          "metadata": {
            "tags": []
          },
          "execution_count": 96
        }
      ]
    },
    {
      "cell_type": "code",
      "metadata": {
        "colab": {
          "base_uri": "https://localhost:8080/"
        },
        "id": "4TvpJtOf8T_O",
        "outputId": "7f790b22-7cc3-4b8b-a267-9910729378d3"
      },
      "source": [
        "s = 'foo [[bar]]); baz [[quz]]); not [[foobar]]'\n",
        "matches = re.findall(r'\\[\\[(.*?)\\]\\]', s)\n",
        "matches"
      ],
      "execution_count": 70,
      "outputs": [
        {
          "output_type": "execute_result",
          "data": {
            "text/plain": [
              "['bar', 'quz', 'foobar']"
            ]
          },
          "metadata": {
            "tags": []
          },
          "execution_count": 70
        }
      ]
    }
  ]
}