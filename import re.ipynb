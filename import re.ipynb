{
 "cells": [
  {
   "cell_type": "markdown",
   "metadata": {},
   "source": [
    "#### find seat no"
   ]
  },
  {
   "cell_type": "code",
   "execution_count": null,
   "metadata": {},
   "outputs": [],
   "source": [
    "import re\n",
    "str='my seat no is 4525-4589'\n",
    "pattern=re.compile(r'\\d{4}\\-\\d{4}')\n",
    "pattern.findall(str)"
   ]
  },
  {
   "cell_type": "markdown",
   "metadata": {},
   "source": [
    "find mobile no"
   ]
  },
  {
   "cell_type": "code",
   "execution_count": null,
   "metadata": {},
   "outputs": [],
   "source": [
    "import re\n",
    "str='my mobile no is 9168084212 and seat ni is 7859-5421'\n",
    "pattern_set_no=re.compile(r'\\d{4}\\-\\d{4}')\n",
    "pattern_mob_no=re.compile(r'\\d{10}')\n",
    "print('Seat number is {}'.format(pattern_set_no.findall(str)[0]))\n",
    "print('Mobile numder  is {}'.format(pattern_mob_no.findall(str)[0]))"
   ]
  },
  {
   "cell_type": "code",
   "execution_count": null,
   "metadata": {},
   "outputs": [],
   "source": [
    "import re\n",
    "str='tmko bahut bahut badhai ho aiii   aiiii'\n",
    "print(re.compile(r'ai{2}').findall(str))\n",
    "print(re.compile(r'ai{1}').findall(str))\n",
    "print(re.compile(r'ai{3}').findall(str))\n",
    "print(re.compile(r'ai+').findall(str))\n"
   ]
  },
  {
   "cell_type": "code",
   "execution_count": null,
   "metadata": {},
   "outputs": [],
   "source": [
    "import re\n",
    "nameages= ''' visha is 22 snd theon is 33 vinod is 26 and joey is 21 '''\n",
    "ages= re.findall(r'\\d{2,3}',nameages)\n",
    "print(nameages)\n",
    "print(ages)"
   ]
  },
  {
   "cell_type": "code",
   "execution_count": null,
   "metadata": {},
   "outputs": [],
   "source": [
    "example_string_1=\"TransactionIDE65214 is failed.\"\n",
    "example_string_2=\"E025164 is aproved\"\n",
    "search_result1=re.findall(\"[A-Z]{1}\\d{5,6}\",example_string_1)\n",
    "search_result2=re.findall(\"[A-Z]{1}\\d{5,6}\",example_string_2)\n",
    "print(search_result1)\n",
    "print(search_result2)"
   ]
  },
  {
   "cell_type": "code",
   "execution_count": null,
   "metadata": {},
   "outputs": [],
   "source": [
    "str1='my birthdat is 9/02/1997'\n",
    "print(re.compile(r'\\d{1,2}\\/\\d{1,2}\\/\\d{4}').findall(str1))"
   ]
  },
  {
   "cell_type": "markdown",
   "metadata": {},
   "source": [
    "search email"
   ]
  },
  {
   "cell_type": "code",
   "execution_count": null,
   "metadata": {},
   "outputs": [],
   "source": [
    "import re\n",
    "pattern=\"[a-zA-Z0-9]+@[a-zA-Z]+\\.(com|edu|net)\"\n",
    "user_input=input()\n",
    "if (re.search(pattern,user_input)):\n",
    "    print('valid email')\n",
    "else :\n",
    "    print(\"invalid email\")\n",
    "    "
   ]
  },
  {
   "cell_type": "code",
   "execution_count": null,
   "metadata": {},
   "outputs": [],
   "source": [
    "import re\n",
    "pattern=\"[a-zA-Z0-9]+@gmail+\\.(com|edu|net)\"\n",
    "user_input=input()\n",
    "if (re.search(pattern,user_input)):\n",
    "    print('google valid email')\n",
    "else :\n",
    "    print(\"google invalid email\")\n",
    "    "
   ]
  },
  {
   "cell_type": "code",
   "execution_count": null,
   "metadata": {},
   "outputs": [],
   "source": []
  }
 ],
 "metadata": {
  "kernelspec": {
   "display_name": "Python 3",
   "language": "python",
   "name": "python3"
  },
  "language_info": {
   "codemirror_mode": {
    "name": "ipython",
    "version": 3
   },
   "file_extension": ".py",
   "mimetype": "text/x-python",
   "name": "python",
   "nbconvert_exporter": "python",
   "pygments_lexer": "ipython3",
   "version": "3.8.5"
  }
 },
 "nbformat": 4,
 "nbformat_minor": 4
}
